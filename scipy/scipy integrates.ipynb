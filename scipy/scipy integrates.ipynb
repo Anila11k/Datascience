{
 "cells": [
  {
   "cell_type": "code",
   "execution_count": 4,
   "id": "c68ff3e2-cb63-44d4-8152-47c4e6e3dcaf",
   "metadata": {},
   "outputs": [
    {
     "data": {
      "text/plain": [
       "(0.8862269254527579, 7.345219412899489e-10)"
      ]
     },
     "execution_count": 4,
     "metadata": {},
     "output_type": "execute_result"
    }
   ],
   "source": [
    "import scipy.integrate\n",
    "from numpy import exp\n",
    "f=lambda x:exp(-x**2)\n",
    "i=scipy.integrate.quad(f,0,7)\n",
    "i"
   ]
  },
  {
   "cell_type": "code",
   "execution_count": 12,
   "id": "bc5181c3-6d69-4d0a-8e27-3b890538a45c",
   "metadata": {},
   "outputs": [
    {
     "data": {
      "text/plain": [
       "(0.9181687423997607, 3.0697702886606226e-09)"
      ]
     },
     "execution_count": 12,
     "metadata": {},
     "output_type": "execute_result"
    }
   ],
   "source": [
    "import scipy.integrate\n",
    "from numpy import exp\n",
    "noni=lambda x:exp(-x**5)\n",
    "aim=scipy.integrate.quad(noni,0,8)\n",
    "aim"
   ]
  },
  {
   "cell_type": "code",
   "execution_count": null,
   "id": "79060a1c-e38b-4e91-bd49-12372b9fa67f",
   "metadata": {},
   "outputs": [],
   "source": [
    "import scipy.integrate\n",
    "from numpy import exp\n",
    "noni=lambda x:exp(x**9)\n",
    "aim=scipy.integrate.quad(noni,\n"
   ]
  }
 ],
 "metadata": {
  "kernelspec": {
   "display_name": "Python 3 (ipykernel)",
   "language": "python",
   "name": "python3"
  },
  "language_info": {
   "codemirror_mode": {
    "name": "ipython",
    "version": 3
   },
   "file_extension": ".py",
   "mimetype": "text/x-python",
   "name": "python",
   "nbconvert_exporter": "python",
   "pygments_lexer": "ipython3",
   "version": "3.12.7"
  }
 },
 "nbformat": 4,
 "nbformat_minor": 5
}
