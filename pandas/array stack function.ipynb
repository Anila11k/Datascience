{
 "cells": [
  {
   "cell_type": "code",
   "execution_count": 3,
   "id": "1a0e71e7-965b-4e27-873b-ec425543dd03",
   "metadata": {},
   "outputs": [
    {
     "name": "stdout",
     "output_type": "stream",
     "text": [
      "[[34 65]\n",
      " [48 35]\n",
      " [25 58]\n",
      " [48 47]\n",
      " [96 36]\n",
      " [47 44]]\n"
     ]
    }
   ],
   "source": [
    "import numpy as np\n",
    "arr1=np.array([34,48,25,48,96,47])\n",
    "arr2=np.array([65,35,58,47,36,44])\n",
    "arr=np.stack((arr1,arr2),axis=1)\n",
    "print(arr)\n",
    "\n"
   ]
  },
  {
   "cell_type": "code",
   "execution_count": 5,
   "id": "9c3c789e-a34b-4b43-8fad-769aead6006e",
   "metadata": {},
   "outputs": [
    {
     "name": "stdout",
     "output_type": "stream",
     "text": [
      "[1 2 3 4 5 6 7 8 9]\n"
     ]
    }
   ],
   "source": [
    "# H-STACK(HORIZOANTAL)\n",
    "# ---------------------\n",
    "\n",
    "import numpy as np\n",
    "arr1=np.array([1,2,3])\n",
    "arr2=np.array([4,5,6])\n",
    "arr3=np.array([7,8,9])\n",
    "arr=np.hstack((arr1,arr2,arr3))\n",
    "print(arr)\n",
    "\n",
    "\n",
    "    \n",
    "    "
   ]
  },
  {
   "cell_type": "code",
   "execution_count": null,
   "id": "57050696-cdd8-4215-bbeb-26cb13419f69",
   "metadata": {},
   "outputs": [],
   "source": []
  }
 ],
 "metadata": {
  "kernelspec": {
   "display_name": "Python 3 (ipykernel)",
   "language": "python",
   "name": "python3"
  },
  "language_info": {
   "codemirror_mode": {
    "name": "ipython",
    "version": 3
   },
   "file_extension": ".py",
   "mimetype": "text/x-python",
   "name": "python",
   "nbconvert_exporter": "python",
   "pygments_lexer": "ipython3",
   "version": "3.12.7"
  }
 },
 "nbformat": 4,
 "nbformat_minor": 5
}
