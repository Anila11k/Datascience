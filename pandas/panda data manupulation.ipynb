{
 "cells": [
  {
   "cell_type": "code",
   "execution_count": 1,
   "id": "c04dd3d7-c890-4221-b8de-7bcd7730b45f",
   "metadata": {},
   "outputs": [
    {
     "ename": "NameError",
     "evalue": "name 'kku' is not defined",
     "output_type": "error",
     "traceback": [
      "\u001b[1;31m---------------------------------------------------------------------------\u001b[0m",
      "\u001b[1;31mNameError\u001b[0m                                 Traceback (most recent call last)",
      "Cell \u001b[1;32mIn[1], line 1\u001b[0m\n\u001b[1;32m----> 1\u001b[0m \u001b[38;5;28mprint\u001b[39m(kku\u001b[38;5;241m.\u001b[39mhead(\u001b[38;5;241m10\u001b[39m))\n",
      "\u001b[1;31mNameError\u001b[0m: name 'kku' is not defined"
     ]
    }
   ],
   "source": [
    "print(kku.head(10))"
   ]
  },
  {
   "cell_type": "code",
   "execution_count": null,
   "id": "2186d693-d16b-44c1-bcd9-113fb52e6b2a",
   "metadata": {},
   "outputs": [],
   "source": [
    "print(kku.tail())"
   ]
  },
  {
   "cell_type": "code",
   "execution_count": null,
   "id": "49cefa45-22ec-4f25-aaa9-87189fce4397",
   "metadata": {},
   "outputs": [],
   "source": [
    "import pandas as pd\n",
    "kku=pd.read_excel('data11.xlsx')\n",
    "kku"
   ]
  },
  {
   "cell_type": "code",
   "execution_count": null,
   "id": "ed34438c-564e-488f-82f7-94dd2c775e0a",
   "metadata": {},
   "outputs": [],
   "source": [
    "kku=pd.read_excel('data11.xlsx')"
   ]
  },
  {
   "cell_type": "code",
   "execution_count": null,
   "id": "d80784d0-2690-4477-925b-8f61a4464862",
   "metadata": {},
   "outputs": [],
   "source": [
    "kku"
   ]
  },
  {
   "cell_type": "code",
   "execution_count": null,
   "id": "afa42790-eadc-4957-8255-96bb212b8d36",
   "metadata": {},
   "outputs": [],
   "source": [
    "import pandas as pd\n",
    "\n",
    "df = pd.read_json('sample4.json')\n",
    "df\n"
   ]
  },
  {
   "cell_type": "code",
   "execution_count": null,
   "id": "ad5ee71c-d704-41af-8a00-e94eedd2c28c",
   "metadata": {},
   "outputs": [],
   "source": [
    "print(df.head(2))"
   ]
  },
  {
   "cell_type": "code",
   "execution_count": null,
   "id": "61ed1df9-18e8-40cf-9e3f-cf00330e7e13",
   "metadata": {},
   "outputs": [],
   "source": [
    "print(kku.head(3))"
   ]
  },
  {
   "cell_type": "code",
   "execution_count": null,
   "id": "0c6f4a15-af32-4a8e-a6ee-bb3527d667b2",
   "metadata": {},
   "outputs": [],
   "source": [
    "print(kku.tail(6))"
   ]
  },
  {
   "cell_type": "code",
   "execution_count": null,
   "id": "4cdea31f-246e-402a-80f1-85dae6fa3712",
   "metadata": {},
   "outputs": [],
   "source": [
    "print(kku.info())"
   ]
  },
  {
   "cell_type": "code",
   "execution_count": null,
   "id": "38ee00e7-605b-4ba7-9c89-45de9795f6a9",
   "metadata": {},
   "outputs": [],
   "source": [
    "print(kku.describe())"
   ]
  },
  {
   "cell_type": "code",
   "execution_count": null,
   "id": "d39c183f-eab7-47f7-a45c-2c4bae75d524",
   "metadata": {},
   "outputs": [],
   "source": [
    "print(kku.shape)"
   ]
  },
  {
   "cell_type": "code",
   "execution_count": null,
   "id": "117ab710-a819-41a1-99ce-a5cc8c3e5899",
   "metadata": {},
   "outputs": [],
   "source": [
    "print(kku.columns)"
   ]
  },
  {
   "cell_type": "code",
   "execution_count": null,
   "id": "9e85678f-b4af-4a4a-82ef-6a0dcfd3eddc",
   "metadata": {},
   "outputs": [],
   "source": [
    "print(kku.dtypes)\n"
   ]
  },
  {
   "cell_type": "code",
   "execution_count": 8,
   "id": "9e9e7500-d415-4a9e-ad05-85b627946275",
   "metadata": {},
   "outputs": [
    {
     "name": "stdout",
     "output_type": "stream",
     "text": [
      "      Name  Age       city\n",
      "0    Alice   25    newyork\n",
      "1      bob   30  losangels\n",
      "2  charlie   35    chicago\n"
     ]
    }
   ],
   "source": [
    "\n",
    "import pandas as pd\n",
    "data={\n",
    "    \"Name\":[\"Alice\",\"bob\",\"charlie\"],\n",
    "    \"Age\":[25,30,35],\n",
    "    \"city\":[\"newyork\",\"losangels\",\"chicago\"]\n",
    "}\n",
    "df=pd.DataFrame(data)\n",
    "print(df)\n",
    "df.to_csv(\"data.xlsx\",index=False)\n",
    "    \n"
   ]
  },
  {
   "cell_type": "code",
   "execution_count": null,
   "id": "a1e9f126-763c-4f06-b2a7-f97e9e66ddc7",
   "metadata": {},
   "outputs": [],
   "source": [
    " \n"
   ]
  }
 ],
 "metadata": {
  "kernelspec": {
   "display_name": "Python 3 (ipykernel)",
   "language": "python",
   "name": "python3"
  },
  "language_info": {
   "codemirror_mode": {
    "name": "ipython",
    "version": 3
   },
   "file_extension": ".py",
   "mimetype": "text/x-python",
   "name": "python",
   "nbconvert_exporter": "python",
   "pygments_lexer": "ipython3",
   "version": "3.12.7"
  }
 },
 "nbformat": 4,
 "nbformat_minor": 5
}
