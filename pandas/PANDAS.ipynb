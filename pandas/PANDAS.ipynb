{
 "cells": [
  {
   "cell_type": "code",
   "execution_count": 19,
   "id": "05aeaeb4-7772-43e7-b8c5-187afe92b465",
   "metadata": {},
   "outputs": [
    {
     "data": {
      "text/plain": [
       "0    anila\n",
       "1       54\n",
       "dtype: object"
      ]
     },
     "execution_count": 19,
     "metadata": {},
     "output_type": "execute_result"
    }
   ],
   "source": [
    "import pandas as pd\n",
    "a=[\"anila\",54]\n",
    "mylist=pd.Series(a)\n",
    "mylist\n",
    "\n",
    "\n"
   ]
  },
  {
   "cell_type": "code",
   "execution_count": 17,
   "id": "078e58d9-9aed-499a-8a1a-76da7bcd0862",
   "metadata": {},
   "outputs": [
    {
     "data": {
      "text/plain": [
       "0                        noni\n",
       "1                          28\n",
       "2    panikka veettil kuttiyil\n",
       "dtype: object"
      ]
     },
     "execution_count": 17,
     "metadata": {},
     "output_type": "execute_result"
    }
   ],
   "source": [
    "import pandas as pd\n",
    "anila=[\"noni\",28,\"panikka veettil kuttiyil\"]\n",
    "mydetails=pd.Series(anila)\n",
    "mydetails"
   ]
  },
  {
   "cell_type": "code",
   "execution_count": 23,
   "id": "327e32ee-035a-4398-b456-faa6729a33bc",
   "metadata": {},
   "outputs": [
    {
     "data": {
      "text/plain": [
       "x    1\n",
       "y    7\n",
       "z    2\n",
       "dtype: int64"
      ]
     },
     "execution_count": 23,
     "metadata": {},
     "output_type": "execute_result"
    }
   ],
   "source": [
    "# CREATE LABELS\n",
    "# -------------------------------\n",
    "\n",
    "\n",
    "import pandas as pd\n",
    "a=[1,7,2]\n",
    "myvar=pd.Series(a,index=[\"x\",\"y\",\"z\"])\n",
    "myvar"
   ]
  },
  {
   "cell_type": "code",
   "execution_count": 35,
   "id": "1aafb202-c1e5-4004-9bf0-ca1fea30bd08",
   "metadata": {},
   "outputs": [
    {
     "data": {
      "text/plain": [
       "m        20\n",
       "n       520\n",
       "o       895\n",
       "p       145\n",
       "q     apple\n",
       "r    banana\n",
       "dtype: object"
      ]
     },
     "execution_count": 35,
     "metadata": {},
     "output_type": "execute_result"
    }
   ],
   "source": [
    "import pandas as pd\n",
    "noni=[20,520,895,145,\"apple\",\"banana\"]\n",
    "mylist=pd.Series(noni,index=[\"m\",\"n\",\"o\",\"p\",\"q\",\"r\"])\n",
    "mylist"
   ]
  },
  {
   "cell_type": "code",
   "execution_count": 41,
   "id": "db4a810d-155c-4152-975c-f836f122b591",
   "metadata": {},
   "outputs": [
    {
     "data": {
      "text/html": [
       "<div>\n",
       "<style scoped>\n",
       "    .dataframe tbody tr th:only-of-type {\n",
       "        vertical-align: middle;\n",
       "    }\n",
       "\n",
       "    .dataframe tbody tr th {\n",
       "        vertical-align: top;\n",
       "    }\n",
       "\n",
       "    .dataframe thead th {\n",
       "        text-align: right;\n",
       "    }\n",
       "</style>\n",
       "<table border=\"1\" class=\"dataframe\">\n",
       "  <thead>\n",
       "    <tr style=\"text-align: right;\">\n",
       "      <th></th>\n",
       "      <th>calories</th>\n",
       "      <th>duration</th>\n",
       "    </tr>\n",
       "  </thead>\n",
       "  <tbody>\n",
       "    <tr>\n",
       "      <th>0</th>\n",
       "      <td>420</td>\n",
       "      <td>50</td>\n",
       "    </tr>\n",
       "    <tr>\n",
       "      <th>1</th>\n",
       "      <td>300</td>\n",
       "      <td>40</td>\n",
       "    </tr>\n",
       "    <tr>\n",
       "      <th>2</th>\n",
       "      <td>390</td>\n",
       "      <td>45</td>\n",
       "    </tr>\n",
       "  </tbody>\n",
       "</table>\n",
       "</div>"
      ],
      "text/plain": [
       "   calories  duration\n",
       "0       420        50\n",
       "1       300        40\n",
       "2       390        45"
      ]
     },
     "execution_count": 41,
     "metadata": {},
     "output_type": "execute_result"
    }
   ],
   "source": [
    "# DATA FRAMES\n",
    "# -------------------\n",
    "\n",
    "\n",
    "\n",
    "import pandas as pd\n",
    "data={\n",
    "    \"calories\":[420,300,390],\n",
    "    \"duration\":[50,40,45]\n",
    "}\n",
    "myvar=pd.DataFrame(data)\n",
    "myvar\n",
    "\n"
   ]
  },
  {
   "cell_type": "code",
   "execution_count": 45,
   "id": "90d6d420-8b0d-4c52-80eb-b73a36a65136",
   "metadata": {},
   "outputs": [
    {
     "data": {
      "text/html": [
       "<div>\n",
       "<style scoped>\n",
       "    .dataframe tbody tr th:only-of-type {\n",
       "        vertical-align: middle;\n",
       "    }\n",
       "\n",
       "    .dataframe tbody tr th {\n",
       "        vertical-align: top;\n",
       "    }\n",
       "\n",
       "    .dataframe thead th {\n",
       "        text-align: right;\n",
       "    }\n",
       "</style>\n",
       "<table border=\"1\" class=\"dataframe\">\n",
       "  <thead>\n",
       "    <tr style=\"text-align: right;\">\n",
       "      <th></th>\n",
       "      <th>name</th>\n",
       "      <th>age</th>\n",
       "    </tr>\n",
       "  </thead>\n",
       "  <tbody>\n",
       "    <tr>\n",
       "      <th>0</th>\n",
       "      <td>anila</td>\n",
       "      <td>28</td>\n",
       "    </tr>\n",
       "    <tr>\n",
       "      <th>1</th>\n",
       "      <td>akhila</td>\n",
       "      <td>32</td>\n",
       "    </tr>\n",
       "    <tr>\n",
       "      <th>2</th>\n",
       "      <td>renu</td>\n",
       "      <td>28</td>\n",
       "    </tr>\n",
       "    <tr>\n",
       "      <th>3</th>\n",
       "      <td>revu</td>\n",
       "      <td>32</td>\n",
       "    </tr>\n",
       "  </tbody>\n",
       "</table>\n",
       "</div>"
      ],
      "text/plain": [
       "     name  age\n",
       "0   anila   28\n",
       "1  akhila   32\n",
       "2    renu   28\n",
       "3    revu   32"
      ]
     },
     "execution_count": 45,
     "metadata": {},
     "output_type": "execute_result"
    }
   ],
   "source": [
    "import pandas as pd\n",
    "data={\n",
    "    \"name\":[\"anila\",\"akhila\",\"renu\",\"revu\"],\n",
    "    \"age\":[28,32,28,32]\n",
    "}\n",
    "mydetails=pd.DataFrame(data)\n",
    "mydetails"
   ]
  },
  {
   "cell_type": "code",
   "execution_count": 51,
   "id": "1c7878bf-0343-4c49-8f06-3fa755b35bbb",
   "metadata": {},
   "outputs": [
    {
     "data": {
      "text/plain": [
       "name    renu\n",
       "age       28\n",
       "Name: 2, dtype: object"
      ]
     },
     "execution_count": 51,
     "metadata": {},
     "output_type": "execute_result"
    }
   ],
   "source": [
    "# LOCATE ROW\n",
    "# --------------------\n",
    "import pandas as pd\n",
    "data={\n",
    "    \"name\":[\"anila\",\"akhila\",\"renu\",\"revu\"],\n",
    "    \"age\":[28,32,28,32]\n",
    "}\n",
    "mydetails=pd.DataFrame(data)\n",
    "mydetails.loc[2]\n",
    "\n"
   ]
  },
  {
   "cell_type": "code",
   "execution_count": 63,
   "id": "4549ed49-3da2-4b3f-a2e1-31f0bc98b2eb",
   "metadata": {},
   "outputs": [
    {
     "data": {
      "text/html": [
       "<div>\n",
       "<style scoped>\n",
       "    .dataframe tbody tr th:only-of-type {\n",
       "        vertical-align: middle;\n",
       "    }\n",
       "\n",
       "    .dataframe tbody tr th {\n",
       "        vertical-align: top;\n",
       "    }\n",
       "\n",
       "    .dataframe thead th {\n",
       "        text-align: right;\n",
       "    }\n",
       "</style>\n",
       "<table border=\"1\" class=\"dataframe\">\n",
       "  <thead>\n",
       "    <tr style=\"text-align: right;\">\n",
       "      <th></th>\n",
       "      <th>Date</th>\n",
       "      <th>Product_Category</th>\n",
       "      <th>Price</th>\n",
       "      <th>Discount</th>\n",
       "      <th>Customer_Segment</th>\n",
       "      <th>Marketing_Spend</th>\n",
       "      <th>Units_Sold</th>\n",
       "    </tr>\n",
       "  </thead>\n",
       "  <tbody>\n",
       "    <tr>\n",
       "      <th>0</th>\n",
       "      <td>01-01-2023</td>\n",
       "      <td>Sports</td>\n",
       "      <td>932.80</td>\n",
       "      <td>35.82</td>\n",
       "      <td>Occasional</td>\n",
       "      <td>6780.38</td>\n",
       "      <td>32</td>\n",
       "    </tr>\n",
       "    <tr>\n",
       "      <th>1</th>\n",
       "      <td>02-01-2023</td>\n",
       "      <td>Toys</td>\n",
       "      <td>569.48</td>\n",
       "      <td>3.60</td>\n",
       "      <td>Premium</td>\n",
       "      <td>6807.56</td>\n",
       "      <td>16</td>\n",
       "    </tr>\n",
       "    <tr>\n",
       "      <th>2</th>\n",
       "      <td>03-01-2023</td>\n",
       "      <td>Home Decor</td>\n",
       "      <td>699.68</td>\n",
       "      <td>3.56</td>\n",
       "      <td>Premium</td>\n",
       "      <td>3793.91</td>\n",
       "      <td>27</td>\n",
       "    </tr>\n",
       "    <tr>\n",
       "      <th>3</th>\n",
       "      <td>04-01-2023</td>\n",
       "      <td>Toys</td>\n",
       "      <td>923.27</td>\n",
       "      <td>0.61</td>\n",
       "      <td>Premium</td>\n",
       "      <td>9422.75</td>\n",
       "      <td>29</td>\n",
       "    </tr>\n",
       "    <tr>\n",
       "      <th>4</th>\n",
       "      <td>05-01-2023</td>\n",
       "      <td>Toys</td>\n",
       "      <td>710.17</td>\n",
       "      <td>47.83</td>\n",
       "      <td>Premium</td>\n",
       "      <td>1756.83</td>\n",
       "      <td>17</td>\n",
       "    </tr>\n",
       "    <tr>\n",
       "      <th>...</th>\n",
       "      <td>...</td>\n",
       "      <td>...</td>\n",
       "      <td>...</td>\n",
       "      <td>...</td>\n",
       "      <td>...</td>\n",
       "      <td>...</td>\n",
       "      <td>...</td>\n",
       "    </tr>\n",
       "    <tr>\n",
       "      <th>995</th>\n",
       "      <td>22-09-2025</td>\n",
       "      <td>Fashion</td>\n",
       "      <td>740.06</td>\n",
       "      <td>49.06</td>\n",
       "      <td>Regular</td>\n",
       "      <td>1890.83</td>\n",
       "      <td>34</td>\n",
       "    </tr>\n",
       "    <tr>\n",
       "      <th>996</th>\n",
       "      <td>23-09-2025</td>\n",
       "      <td>Electronics</td>\n",
       "      <td>517.10</td>\n",
       "      <td>28.48</td>\n",
       "      <td>Premium</td>\n",
       "      <td>8011.66</td>\n",
       "      <td>21</td>\n",
       "    </tr>\n",
       "    <tr>\n",
       "      <th>997</th>\n",
       "      <td>24-09-2025</td>\n",
       "      <td>Electronics</td>\n",
       "      <td>683.43</td>\n",
       "      <td>12.98</td>\n",
       "      <td>Occasional</td>\n",
       "      <td>3408.51</td>\n",
       "      <td>19</td>\n",
       "    </tr>\n",
       "    <tr>\n",
       "      <th>998</th>\n",
       "      <td>25-09-2025</td>\n",
       "      <td>Sports</td>\n",
       "      <td>51.26</td>\n",
       "      <td>21.85</td>\n",
       "      <td>Occasional</td>\n",
       "      <td>7335.62</td>\n",
       "      <td>26</td>\n",
       "    </tr>\n",
       "    <tr>\n",
       "      <th>999</th>\n",
       "      <td>26-09-2025</td>\n",
       "      <td>Home Decor</td>\n",
       "      <td>93.94</td>\n",
       "      <td>29.68</td>\n",
       "      <td>Regular</td>\n",
       "      <td>4258.11</td>\n",
       "      <td>39</td>\n",
       "    </tr>\n",
       "  </tbody>\n",
       "</table>\n",
       "<p>1000 rows × 7 columns</p>\n",
       "</div>"
      ],
      "text/plain": [
       "           Date Product_Category   Price  Discount Customer_Segment  \\\n",
       "0    01-01-2023           Sports  932.80     35.82       Occasional   \n",
       "1    02-01-2023             Toys  569.48      3.60          Premium   \n",
       "2    03-01-2023       Home Decor  699.68      3.56          Premium   \n",
       "3    04-01-2023             Toys  923.27      0.61          Premium   \n",
       "4    05-01-2023             Toys  710.17     47.83          Premium   \n",
       "..          ...              ...     ...       ...              ...   \n",
       "995  22-09-2025          Fashion  740.06     49.06          Regular   \n",
       "996  23-09-2025      Electronics  517.10     28.48          Premium   \n",
       "997  24-09-2025      Electronics  683.43     12.98       Occasional   \n",
       "998  25-09-2025           Sports   51.26     21.85       Occasional   \n",
       "999  26-09-2025       Home Decor   93.94     29.68          Regular   \n",
       "\n",
       "     Marketing_Spend  Units_Sold  \n",
       "0            6780.38          32  \n",
       "1            6807.56          16  \n",
       "2            3793.91          27  \n",
       "3            9422.75          29  \n",
       "4            1756.83          17  \n",
       "..               ...         ...  \n",
       "995          1890.83          34  \n",
       "996          8011.66          21  \n",
       "997          3408.51          19  \n",
       "998          7335.62          26  \n",
       "999          4258.11          39  \n",
       "\n",
       "[1000 rows x 7 columns]"
      ]
     },
     "execution_count": 63,
     "metadata": {},
     "output_type": "execute_result"
    }
   ],
   "source": [
    "import pandas as pd\n",
    "df = pd.read_csv('mol.csv')\n",
    "df"
   ]
  }
 ],
 "metadata": {
  "kernelspec": {
   "display_name": "Python 3 (ipykernel)",
   "language": "python",
   "name": "python3"
  },
  "language_info": {
   "codemirror_mode": {
    "name": "ipython",
    "version": 3
   },
   "file_extension": ".py",
   "mimetype": "text/x-python",
   "name": "python",
   "nbconvert_exporter": "python",
   "pygments_lexer": "ipython3",
   "version": "3.12.7"
  }
 },
 "nbformat": 4,
 "nbformat_minor": 5
}
