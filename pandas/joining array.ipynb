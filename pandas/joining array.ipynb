{
 "cells": [
  {
   "cell_type": "code",
   "execution_count": 7,
   "id": "6cfd964e-d49f-47a0-8d46-b2f9c0a85bcd",
   "metadata": {},
   "outputs": [
    {
     "name": "stdout",
     "output_type": "stream",
     "text": [
      "[1 2 3 4 5 6]\n",
      "[4 5 6 7 8 9 8 5 9 7 3 6]\n"
     ]
    }
   ],
   "source": [
    "# 1D ARRAY \n",
    "# ........\n",
    "\n",
    "import numpy as np\n",
    "arr1=np.array([1,2,3])\n",
    "arr2=np.array([4,5,6])\n",
    "arr=np.concatenate((arr1,arr2))\n",
    "print (arr)\n",
    "\n",
    "import numpy as np\n",
    "arr1=np.array([4,5,6,7,8,9])\n",
    "arr2=np.array([8,5,9,7,3,6,])\n",
    "arr=np.concatenate((arr1,arr2))\n",
    "print (arr)\n"
   ]
  },
  {
   "cell_type": "code",
   "execution_count": 11,
   "id": "c7d0b98a-1b60-4028-bd9e-7f593bdf7579",
   "metadata": {},
   "outputs": [
    {
     "name": "stdout",
     "output_type": "stream",
     "text": [
      "[[1 2 5 6]\n",
      " [3 4 7 8]]\n"
     ]
    }
   ],
   "source": [
    "# 2D ARRAY\n",
    "# ........\n",
    "\n",
    "import numpy as np\n",
    "arr1=np.array([[1,2],[3,4]])\n",
    "arr2=np.array([[5,6],[7,8]])\n",
    "arr=np.concatenate((arr1,arr2),axis=1)\n",
    "print(arr)\n"
   ]
  }
 ],
 "metadata": {
  "kernelspec": {
   "display_name": "Python 3 (ipykernel)",
   "language": "python",
   "name": "python3"
  },
  "language_info": {
   "codemirror_mode": {
    "name": "ipython",
    "version": 3
   },
   "file_extension": ".py",
   "mimetype": "text/x-python",
   "name": "python",
   "nbconvert_exporter": "python",
   "pygments_lexer": "ipython3",
   "version": "3.12.7"
  }
 },
 "nbformat": 4,
 "nbformat_minor": 5
}
