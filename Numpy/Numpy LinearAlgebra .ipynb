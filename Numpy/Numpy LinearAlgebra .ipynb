{
 "cells": [
  {
   "cell_type": "code",
   "execution_count": 3,
   "id": "666d3551-a96b-4a7e-bd03-062e14cb6b11",
   "metadata": {},
   "outputs": [
    {
     "name": "stdout",
     "output_type": "stream",
     "text": [
      "44\n"
     ]
    }
   ],
   "source": [
    "# NUMPY DOT FUNCTION\n",
    "# ---------------------------\n",
    "\n",
    "import numpy as np\n",
    "array1=np.array([1,3,5])\n",
    "array2=np.array([2,4,6])\n",
    "result=np.dot(array1,array2)\n",
    "print(result)"
   ]
  },
  {
   "cell_type": "code",
   "execution_count": 7,
   "id": "1544590e-ad5e-4a03-8297-c28676aa7e00",
   "metadata": {},
   "outputs": [
    {
     "data": {
      "text/plain": [
       "12432"
      ]
     },
     "execution_count": 7,
     "metadata": {},
     "output_type": "execute_result"
    }
   ],
   "source": [
    "import numpy as np\n",
    "array1=np.array([4,5,89,45,69])\n",
    "array2=np.array([5,8,69,25,74])\n",
    "anila=np.dot(array1,array2)\n",
    "(anila)"
   ]
  },
  {
   "cell_type": "code",
   "execution_count": 21,
   "id": "33251507-6305-43c9-a1e1-bbdbf97cf6d5",
   "metadata": {},
   "outputs": [
    {
     "data": {
      "text/plain": [
       "array([[14, 30],\n",
       "       [38, 86]])"
      ]
     },
     "execution_count": 21,
     "metadata": {},
     "output_type": "execute_result"
    }
   ],
   "source": [
    "# NUMPY INNER FUNCTION\n",
    "# --------------------------\n",
    "\n",
    "import numpy as np\n",
    "array1=np.array([[1,3],\n",
    "                 [5,7]])\n",
    "array2=np.array([[2,4],\n",
    "                 [6,8]])\n",
    "anila=np.inner(array1,array2)\n",
    "(anila)   \n",
    "\n",
    "                 \n",
    "\n",
    "\n",
    "                "
   ]
  },
  {
   "cell_type": "code",
   "execution_count": 25,
   "id": "53a4226f-827f-47ff-bf97-0465b15d7071",
   "metadata": {},
   "outputs": [
    {
     "data": {
      "text/plain": [
       "array([[ 2,  4,  6],\n",
       "       [ 6, 12, 18],\n",
       "       [10, 20, 30]])"
      ]
     },
     "execution_count": 25,
     "metadata": {},
     "output_type": "execute_result"
    }
   ],
   "source": [
    "# NUMPY OUTER FUNCTION\n",
    "# ------------------------\n",
    "\n",
    "import numpy as np\n",
    "array1=np.array([1,3,5])\n",
    "array2=np.array([2,4,6])\n",
    "anila=np.outer(array1,array2)\n",
    "(anila)"
   ]
  },
  {
   "cell_type": "code",
   "execution_count": 31,
   "id": "e919f56c-2574-447c-856c-df8ffd69f886",
   "metadata": {},
   "outputs": [
    {
     "data": {
      "text/plain": [
       "-14.000000000000004"
      ]
     },
     "execution_count": 31,
     "metadata": {},
     "output_type": "execute_result"
    }
   ],
   "source": [
    "# NUMPY DET FUNCTION\n",
    "# ---------------------\n",
    "\n",
    "import numpy as np\n",
    "array1=np.array([[2,5],\n",
    "                 [6,8]])\n",
    "anila=np.linalg.det(array1)\n",
    "anila\n",
    "                "
   ]
  },
  {
   "cell_type": "code",
   "execution_count": 35,
   "id": "1e3ddc65-a2be-42b9-9cab-72a8ebd1d97e",
   "metadata": {},
   "outputs": [
    {
     "data": {
      "text/plain": [
       "array([ 2.18181818, -0.36363636])"
      ]
     },
     "execution_count": 35,
     "metadata": {},
     "output_type": "execute_result"
    }
   ],
   "source": [
    "# NUMPY SOLVE FUNCTION\n",
    "# -----------------------\n",
    "\n",
    "import numpy as np\n",
    "noni =np.array([[5,8],\n",
    "                [3,7]])\n",
    "nithi =np.array([8,4])\n",
    "revu =np.linalg.solve(noni,nithi)\n",
    "revu"
   ]
  },
  {
   "cell_type": "code",
   "execution_count": 39,
   "id": "0a5de697-c3f7-44f6-8967-ef66d64af081",
   "metadata": {},
   "outputs": [
    {
     "data": {
      "text/plain": [
       "array([[-0.03773585,  0.16981132],\n",
       "       [ 0.13207547, -0.09433962]])"
      ]
     },
     "execution_count": 39,
     "metadata": {},
     "output_type": "execute_result"
    }
   ],
   "source": [
    "# NUMPY INVERSE FUNCTION\n",
    "# ---------------------------\n",
    "\n",
    "import numpy as np\n",
    "array1=np.array([[5,9],\n",
    "                 [7,2]])\n",
    "anila=np.linalg.inv(array1)\n",
    "anila\n",
    "                "
   ]
  }
 ],
 "metadata": {
  "kernelspec": {
   "display_name": "Python 3 (ipykernel)",
   "language": "python",
   "name": "python3"
  },
  "language_info": {
   "codemirror_mode": {
    "name": "ipython",
    "version": 3
   },
   "file_extension": ".py",
   "mimetype": "text/x-python",
   "name": "python",
   "nbconvert_exporter": "python",
   "pygments_lexer": "ipython3",
   "version": "3.12.7"
  }
 },
 "nbformat": 4,
 "nbformat_minor": 5
}
