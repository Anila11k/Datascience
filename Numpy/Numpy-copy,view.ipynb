{
 "cells": [
  {
   "cell_type": "code",
   "execution_count": 9,
   "id": "c5cb18e7-2161-45fc-aec8-3fdb4241a57c",
   "metadata": {},
   "outputs": [
    {
     "name": "stdout",
     "output_type": "stream",
     "text": [
      "[42  2  3  4  5  6]\n",
      "[1 2 3 4 5 6]\n",
      "[21  2  3  4  5]\n",
      "[1 2 3 4 5]\n",
      "[21  2  3  4  5]\n",
      "[21  2  3  4  5]\n"
     ]
    }
   ],
   "source": [
    "import numpy as np\n",
    "arr=np.array([1,2,3,4,5,6])\n",
    "x=arr.copy()\n",
    "arr[0]=42\n",
    "print(arr) \n",
    "print(x)\n",
    "\n",
    "\n",
    "\n",
    "import numpy as np\n",
    "arr=np.array([1,2,3,4,5])\n",
    "x=arr.copy()\n",
    "arr[0]=21\n",
    "print(arr)\n",
    "print(x)\n",
    "\n",
    "\n",
    "import numpy as np\n",
    "arr=np.array([1,2,3,4,5])\n",
    "x=arr.view()\n",
    "arr[0]=21\n",
    "print(arr)\n",
    "print(x)\n",
    "\n",
    "import numpy as np\n",
    "arr=np.array([\n",
    "             \n"
   ]
  }
 ],
 "metadata": {
  "kernelspec": {
   "display_name": "Python 3 (ipykernel)",
   "language": "python",
   "name": "python3"
  },
  "language_info": {
   "codemirror_mode": {
    "name": "ipython",
    "version": 3
   },
   "file_extension": ".py",
   "mimetype": "text/x-python",
   "name": "python",
   "nbconvert_exporter": "python",
   "pygments_lexer": "ipython3",
   "version": "3.12.7"
  }
 },
 "nbformat": 4,
 "nbformat_minor": 5
}
